{
 "cells": [
  {
   "cell_type": "code",
   "execution_count": 1,
   "metadata": {},
   "outputs": [],
   "source": [
    "#!/usr/bin/env python3\n",
    "# -*- coding: utf-8 -*-\n",
    "#\n",
    "# Author: Gernot Heisenberg\n",
    "# 31-10-2019\n",
    "# Edit: Kirill Gelgurt\n",
    "# 04-11-2019\n",
    "#\n",
    "# Description: Reads EEGID App data, extracts a special column and saves it as new file with a special output filename"
   ]
  },
  {
   "cell_type": "code",
   "execution_count": 2,
   "metadata": {},
   "outputs": [],
   "source": [
    "import pandas as pd\n",
    "from datetime import datetime\n",
    "import os, glob"
   ]
  },
  {
   "cell_type": "code",
   "execution_count": 3,
   "metadata": {},
   "outputs": [],
   "source": [
    "num = 0\n",
    "today = datetime.today()\n",
    "now = datetime.now() \n",
    "# special format of the outfilename as expected by AdAnalyzer\n",
    "datetime_string = now.strftime(\"%Y-%m-%d_%H-%M-00\")\n",
    "\n",
    "# change directory accordingly\n",
    "eeg_in_folder = \"./data/eeg/\" \n",
    "eeg_out_folder = \"./converted/\" \n",
    "os.chdir(eeg_in_folder)\n",
    "\n",
    "files = sorted(glob.glob(\"*.csv\")) # Makes a list of all files in eeg_in_folder\n",
    "bloblist = []\n",
    "electrode_position_list=[\"T6\",\"T5\",\"T4\",\"T3\",\"PZ\",\"P4\",\"P3\",\"OZ\",\"O2\",\"O1\",\"FZ\",\"FPZ\",\"FP2\",\"FP1\",\"F8\",\"F7\",\"F4\",\"F3\",\"CZ\",\"C4\",\"C3\"]"
   ]
  },
  {
   "cell_type": "code",
   "execution_count": 4,
   "metadata": {},
   "outputs": [],
   "source": [
    "for file in files:\n",
    "    #with open (file, 'r') as f:\n",
    "    df=pd.read_csv(file, sep=\",\", usecols=['eegRawValue'],nrows=70144)\n",
    "    #df.rename(columns={'eegRawValue':'EEG_Values'}, inplace=True)\n",
    "    #df2=df[[\"EEG_Values\"]]\n",
    "    num=num+1\n",
    "    if num >999:\n",
    "        vp_path_num = \"vp_\"+str(num)\n",
    "    elif num >99:\n",
    "        vp_path_num = \"vp_0\"+str(num)\n",
    "    elif num >9:\n",
    "        vp_path_num = \"vp_00\"+str(num)\n",
    "    else:\n",
    "        vp_path_num = \"vp_000\"+str(num)\n",
    "\n",
    "    for elecPos in electrode_position_list:\n",
    "        out_filename = eeg_out_folder + vp_path_num + \"_\" + elecPos + \"_\" + datetime_string + \"_EEG.csv\"\n",
    "        f = open(out_filename, 'w') # Open file as write mode\n",
    "        #df2.to_csv(out_filename, index = None, header=True)\n",
    "        df.to_csv(out_filename, index = None, header=[\"EEG_Values\"])\n",
    "        f.close()\n",
    "        "
   ]
  },
  {
   "cell_type": "code",
   "execution_count": null,
   "metadata": {},
   "outputs": [],
   "source": [
    "        "
   ]
  }
 ],
 "metadata": {
  "kernelspec": {
   "display_name": "Python 3",
   "language": "python",
   "name": "python3"
  },
  "language_info": {
   "codemirror_mode": {
    "name": "ipython",
    "version": 3
   },
   "file_extension": ".py",
   "mimetype": "text/x-python",
   "name": "python",
   "nbconvert_exporter": "python",
   "pygments_lexer": "ipython3",
   "version": "3.6.9"
  },
  "nteract": {
   "version": "0.15.0"
  }
 },
 "nbformat": 4,
 "nbformat_minor": 2
}
