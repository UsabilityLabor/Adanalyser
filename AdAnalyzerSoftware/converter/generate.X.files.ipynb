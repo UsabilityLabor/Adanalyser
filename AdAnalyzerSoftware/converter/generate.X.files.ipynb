{
 "cells": [
  {
   "cell_type": "code",
   "execution_count": 1,
   "metadata": {},
   "outputs": [],
   "source": [
    "#!/usr/bin/env python3\n",
    "# -*- coding: utf-8 -*-\n",
    "#\n",
    "# Author: Gernot Heisenberg\n",
    "# 03-12-2020\n",
    "#\n",
    "# Description: Reads EDA files and generates a specified number of copies with different filenames."
   ]
  },
  {
   "cell_type": "code",
   "execution_count": 2,
   "metadata": {},
   "outputs": [],
   "source": [
    "import pandas as pd\n",
    "from datetime import datetime\n",
    "import os, glob"
   ]
  },
  {
   "cell_type": "code",
   "execution_count": 3,
   "metadata": {},
   "outputs": [],
   "source": [
    "## for all types\n",
    "today = datetime.today()\n",
    "now = datetime.now() \n",
    "# special format of the outfilename as expected by AdAnalyzer\n",
    "datetime_string = now.strftime(\"%Y-%m-%d_%H-%M-00\")"
   ]
  },
  {
   "cell_type": "code",
   "execution_count": 4,
   "metadata": {},
   "outputs": [],
   "source": [
    "vp_path_num = num = 0\n",
    "electrode_position_list=[\"T6\",\"T5\",\"T4\",\"T3\",\"PZ\",\"P4\",\"P3\",\"OZ\",\"O2\",\"O1\",\"FZ\",\"FPZ\",\"FP2\",\n",
    "                         \"FP1\",\"F8\",\"F7\",\"F4\",\"F3\",\"CZ\",\"C4\",\"C3\"]\n",
    "\n",
    "eda_out_folder = \"C:/Users/gheisenb/Desktop/home/projects/AdAnalyzer/trunk/AdAnalyzerSoftware/converter/data/eda/conv/\"\n",
    "eda_file= \"C:/Users/gheisenb/Desktop/home/projects/AdAnalyzer/trunk/AdAnalyzerSoftware/converter/data/eda/vp_0001_2020-12-03_09-37-00_EDA.csv\" \n",
    "\n",
    "hrv_out_folder = \"C:/Users/gheisenb/Desktop/home/projects/AdAnalyzer/trunk/AdAnalyzerSoftware/converter/data/hrv/conv/\"\n",
    "hrv_file= \"C:/Users/gheisenb/Desktop/home/projects/AdAnalyzer/trunk/AdAnalyzerSoftware/converter/data/hrv/vp_0001_2020-12-03_09-35-00_RR.txt\" \n",
    "\n",
    "eeg_out_folder = \"C:/Users/gheisenb/Desktop/home/projects/AdAnalyzer/trunk/AdAnalyzerSoftware/converter/data/eeg/conv/\"\n",
    "eeg_file= \"C:/Users/gheisenb/Desktop/home/projects/AdAnalyzer/trunk/AdAnalyzerSoftware/converter/data/eeg/vp_0001_C3_2020-12-03_09-38-00_EEG.csv\" "
   ]
  },
  {
   "cell_type": "code",
   "execution_count": 5,
   "metadata": {},
   "outputs": [],
   "source": [
    "df_eda=pd.read_csv(eda_file)\n",
    "df_hrv=pd.read_csv(hrv_file)\n",
    "df_eeg=pd.read_csv(eeg_file)\n",
    "    \n",
    "for x in range(100):\n",
    "\n",
    "    num = num+1\n",
    "    if num > 999:\n",
    "        vp_path_num = \"vp_\"+str(num)\n",
    "    elif num > 99:\n",
    "        vp_path_num = \"vp_0\"+str(num)\n",
    "    elif num > 9:\n",
    "        vp_path_num = \"vp_00\"+str(num)\n",
    "    else:\n",
    "        vp_path_num = \"vp_000\"+str(num)\n",
    "            \n",
    "    eda_out_filename = eda_out_folder + vp_path_num + \"_\" + datetime_string + \"_EDA.csv\"\n",
    "    hrv_out_filename = hrv_out_folder + vp_path_num + \"_\" + datetime_string + \"_RR.txt\"\n",
    "    \n",
    "    df_eda.to_csv(eda_out_filename,index = None)\n",
    "    df_hrv.to_csv(hrv_out_filename,index = None)\n",
    "    \n",
    "    for elecPos in electrode_position_list:\n",
    "        out_filename = eeg_out_folder + vp_path_num + \"_\" + elecPos + \"_\" + datetime_string + \"_EEG.csv\"\n",
    "        f = open(out_filename, 'w') # Open file as write mode\n",
    "        #df2.to_csv(out_filename, index = None, header=True)\n",
    "        df_eeg.to_csv(out_filename,index = None)\n",
    "        f.close()\n",
    "   "
   ]
  },
  {
   "cell_type": "markdown",
   "metadata": {},
   "source": [
    "--------------------------------"
   ]
  },
  {
   "cell_type": "code",
   "execution_count": null,
   "metadata": {},
   "outputs": [],
   "source": []
  }
 ],
 "metadata": {
  "kernelspec": {
   "display_name": "Python 3",
   "language": "python",
   "name": "python3"
  },
  "language_info": {
   "codemirror_mode": {
    "name": "ipython",
    "version": 3
   },
   "file_extension": ".py",
   "mimetype": "text/x-python",
   "name": "python",
   "nbconvert_exporter": "python",
   "pygments_lexer": "ipython3",
   "version": "3.7.7"
  }
 },
 "nbformat": 4,
 "nbformat_minor": 4
}
