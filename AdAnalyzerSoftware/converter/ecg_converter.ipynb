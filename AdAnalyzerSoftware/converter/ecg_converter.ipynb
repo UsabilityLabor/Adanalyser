{
 "cells": [
  {
   "cell_type": "code",
   "execution_count": 1,
   "metadata": {},
   "outputs": [],
   "source": [
    "#!/usr/bin/env python3\n",
    "# -*- coding: utf-8 -*-\n",
    "#\n",
    "# Author: Gernot Heisenberg\n",
    "# 28-11-2019\n",
    "#\n",
    "# Description: Reads ECG (RR) App data, extracts two special columns and saves it as new file with a special output filename"
   ]
  },
  {
   "cell_type": "code",
   "execution_count": 2,
   "metadata": {},
   "outputs": [],
   "source": [
    "import pandas as pd\n",
    "from datetime import datetime\n",
    "import os, glob"
   ]
  },
  {
   "cell_type": "code",
   "execution_count": 3,
   "metadata": {},
   "outputs": [],
   "source": [
    "num = 0\n",
    "today = datetime.today()\n",
    "now = datetime.now() \n",
    "# special format of the outfilename as expected by AdAnalyzer\n",
    "datetime_string = now.strftime(\"%Y-%m-%d_%H-%M-00\")\n",
    "\n",
    "# change directory accordingly\n",
    "ecg_in_folder = \"C:/Users/gheisenb/Desktop/home/projects/AdAnalyzer/trunk/AdAnalyzerSoftware/converter/studydata/hrv/\" \n",
    "ecg_out_folder = \"C:/Users/gheisenb/Desktop/home/projects/AdAnalyzer/trunk/AdAnalyzerSoftware/converter/studydata/hrv/converted/\" \n",
    "os.chdir(ecg_in_folder)\n",
    "\n",
    "files = sorted(glob.glob(\"*.csv\")) # Makes a list of all files in ecg_in_folder\n",
    "bloblist = []"
   ]
  },
  {
   "cell_type": "code",
   "execution_count": 4,
   "metadata": {},
   "outputs": [
    {
     "name": "stdout",
     "output_type": "stream",
     "text": [
      "outfilename= C:/Users/gheisenb/Desktop/home/projects/AdAnalyzer/trunk/AdAnalyzerSoftware/converter/studydata/hrv/converted/vp_0001_2020-12-03_09-35-00_RR.txt\n",
      "outfilename= C:/Users/gheisenb/Desktop/home/projects/AdAnalyzer/trunk/AdAnalyzerSoftware/converter/studydata/hrv/converted/vp_0002_2020-12-03_09-35-00_RR.txt\n",
      "outfilename= C:/Users/gheisenb/Desktop/home/projects/AdAnalyzer/trunk/AdAnalyzerSoftware/converter/studydata/hrv/converted/vp_0003_2020-12-03_09-35-00_RR.txt\n",
      "outfilename= C:/Users/gheisenb/Desktop/home/projects/AdAnalyzer/trunk/AdAnalyzerSoftware/converter/studydata/hrv/converted/vp_0004_2020-12-03_09-35-00_RR.txt\n",
      "outfilename= C:/Users/gheisenb/Desktop/home/projects/AdAnalyzer/trunk/AdAnalyzerSoftware/converter/studydata/hrv/converted/vp_0005_2020-12-03_09-35-00_RR.txt\n",
      "outfilename= C:/Users/gheisenb/Desktop/home/projects/AdAnalyzer/trunk/AdAnalyzerSoftware/converter/studydata/hrv/converted/vp_0006_2020-12-03_09-35-00_RR.txt\n",
      "outfilename= C:/Users/gheisenb/Desktop/home/projects/AdAnalyzer/trunk/AdAnalyzerSoftware/converter/studydata/hrv/converted/vp_0007_2020-12-03_09-35-00_RR.txt\n",
      "outfilename= C:/Users/gheisenb/Desktop/home/projects/AdAnalyzer/trunk/AdAnalyzerSoftware/converter/studydata/hrv/converted/vp_0008_2020-12-03_09-35-00_RR.txt\n",
      "outfilename= C:/Users/gheisenb/Desktop/home/projects/AdAnalyzer/trunk/AdAnalyzerSoftware/converter/studydata/hrv/converted/vp_0009_2020-12-03_09-35-00_RR.txt\n",
      "outfilename= C:/Users/gheisenb/Desktop/home/projects/AdAnalyzer/trunk/AdAnalyzerSoftware/converter/studydata/hrv/converted/vp_0010_2020-12-03_09-35-00_RR.txt\n",
      "outfilename= C:/Users/gheisenb/Desktop/home/projects/AdAnalyzer/trunk/AdAnalyzerSoftware/converter/studydata/hrv/converted/vp_0011_2020-12-03_09-35-00_RR.txt\n",
      "outfilename= C:/Users/gheisenb/Desktop/home/projects/AdAnalyzer/trunk/AdAnalyzerSoftware/converter/studydata/hrv/converted/vp_0012_2020-12-03_09-35-00_RR.txt\n",
      "outfilename= C:/Users/gheisenb/Desktop/home/projects/AdAnalyzer/trunk/AdAnalyzerSoftware/converter/studydata/hrv/converted/vp_0013_2020-12-03_09-35-00_RR.txt\n",
      "outfilename= C:/Users/gheisenb/Desktop/home/projects/AdAnalyzer/trunk/AdAnalyzerSoftware/converter/studydata/hrv/converted/vp_0014_2020-12-03_09-35-00_RR.txt\n",
      "outfilename= C:/Users/gheisenb/Desktop/home/projects/AdAnalyzer/trunk/AdAnalyzerSoftware/converter/studydata/hrv/converted/vp_0015_2020-12-03_09-35-00_RR.txt\n",
      "outfilename= C:/Users/gheisenb/Desktop/home/projects/AdAnalyzer/trunk/AdAnalyzerSoftware/converter/studydata/hrv/converted/vp_0016_2020-12-03_09-35-00_RR.txt\n",
      "outfilename= C:/Users/gheisenb/Desktop/home/projects/AdAnalyzer/trunk/AdAnalyzerSoftware/converter/studydata/hrv/converted/vp_0017_2020-12-03_09-35-00_RR.txt\n",
      "outfilename= C:/Users/gheisenb/Desktop/home/projects/AdAnalyzer/trunk/AdAnalyzerSoftware/converter/studydata/hrv/converted/vp_0018_2020-12-03_09-35-00_RR.txt\n",
      "outfilename= C:/Users/gheisenb/Desktop/home/projects/AdAnalyzer/trunk/AdAnalyzerSoftware/converter/studydata/hrv/converted/vp_0019_2020-12-03_09-35-00_RR.txt\n",
      "outfilename= C:/Users/gheisenb/Desktop/home/projects/AdAnalyzer/trunk/AdAnalyzerSoftware/converter/studydata/hrv/converted/vp_0020_2020-12-03_09-35-00_RR.txt\n"
     ]
    }
   ],
   "source": [
    "for file in files:\n",
    "    with open (file, 'r') as f:\n",
    "        #lines = f.readlines()[1:]\n",
    "        df=pd.read_csv(file, sep=\",\", skiprows=1, usecols=[1,2])\n",
    "        #df.rename(columns={'eegRawValue':'EEG_Values'}, inplace=True)\n",
    "        #df2=df[[\"EEG_Values\"]]\n",
    "        num = num+1\n",
    "                       \n",
    "        if num > 999:\n",
    "            vp_path_num = \"vp_\"+str(num)\n",
    "        elif num > 99:\n",
    "            vp_path_num = \"vp_0\"+str(num)\n",
    "        elif num > 9:\n",
    "            vp_path_num = \"vp_00\"+str(num)\n",
    "        else:\n",
    "            vp_path_num = \"vp_000\"+str(num)\n",
    "            \n",
    "        out_filename = ecg_out_folder + vp_path_num + \"_\" + datetime_string + \"_RR.txt\"\n",
    "        df.to_csv(out_filename, index = None, header=None)\n",
    "        f.close()"
   ]
  },
  {
   "cell_type": "code",
   "execution_count": null,
   "metadata": {},
   "outputs": [],
   "source": []
  }
 ],
 "metadata": {
  "kernelspec": {
   "display_name": "Python 3",
   "language": "python",
   "name": "python3"
  },
  "language_info": {
   "codemirror_mode": {
    "name": "ipython",
    "version": 3
   },
   "file_extension": ".py",
   "mimetype": "text/x-python",
   "name": "python",
   "nbconvert_exporter": "python",
   "pygments_lexer": "ipython3",
   "version": "3.7.7"
  }
 },
 "nbformat": 4,
 "nbformat_minor": 2
}
