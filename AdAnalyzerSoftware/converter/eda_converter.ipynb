{
 "cells": [
  {
   "cell_type": "code",
   "execution_count": 1,
   "metadata": {},
   "outputs": [],
   "source": [
    "#!/usr/bin/env python3\n",
    "# -*- coding: utf-8 -*-\n",
    "#\n",
    "# Author: Gernot Heisenberg\n",
    "# 28-11-2019\n",
    "#\n",
    "# Description: Reads EDA App data, extracts two special columns and saves it as new file with a special output filename"
   ]
  },
  {
   "cell_type": "code",
   "execution_count": 2,
   "metadata": {},
   "outputs": [],
   "source": [
    "import pandas as pd\n",
    "from datetime import datetime\n",
    "import os, glob"
   ]
  },
  {
   "cell_type": "code",
   "execution_count": 3,
   "metadata": {},
   "outputs": [],
   "source": [
    "num = 0\n",
    "today = datetime.today()\n",
    "now = datetime.now() \n",
    "# special format of the outfilename as expected by AdAnalyzer\n",
    "datetime_string = now.strftime(\"%Y-%m-%d_%H-%M-00\")\n",
    "\n",
    "# change directory accordingly\n",
    "eda_in_folder = \"./data/eda/\" \n",
    "eda_out_folder = \"./converted/\" \n",
    "os.chdir(eda_in_folder)\n",
    "\n",
    "files = sorted(glob.glob(\"*.csv\")) # Makes a list of all files in ecg_in_folder\n",
    "bloblist = []"
   ]
  },
  {
   "cell_type": "code",
   "execution_count": 4,
   "metadata": {},
   "outputs": [],
   "source": [
    "for file in files:\n",
    "    with open (file, 'r') as f:\n",
    "        #lines = f.readlines()[1:]\n",
    "        df=pd.read_csv(file, sep=\";\", skiprows=22, decimal=\",\", usecols=[0,1])\n",
    "        df.rename(columns={'SEKUNDE':'Zeit in Sekunden'}, inplace=True)\n",
    "        df.rename(columns={'MIKROSIEMENS':'Messwerte'}, inplace=True)\n",
    "        #df.replace(\",\",\".\")\n",
    "        #df2=df[[\"Zeit in Sekunden\"],[Messwerte]]\n",
    "        num = num+1\n",
    "                       \n",
    "        if num > 999:\n",
    "            vp_path_num = \"vp_\"+str(num)\n",
    "        elif num > 99:\n",
    "            vp_path_num = \"vp_0\"+str(num)\n",
    "        elif num > 9:\n",
    "            vp_path_num = \"vp_00\"+str(num)\n",
    "        else:\n",
    "            vp_path_num = \"vp_000\"+str(num)\n",
    "            \n",
    "        out_filename = eda_out_folder + vp_path_num + \"_\" + datetime_string + \"_EDA.csv\"\n",
    "        df.to_csv(out_filename, index = None, header=True)\n",
    "        f.close()"
   ]
  },
  {
   "cell_type": "code",
   "execution_count": null,
   "metadata": {},
   "outputs": [],
   "source": []
  }
 ],
 "metadata": {
  "kernelspec": {
   "display_name": "Python 3",
   "language": "python",
   "name": "python3"
  },
  "language_info": {
   "codemirror_mode": {
    "name": "ipython",
    "version": 3
   },
   "file_extension": ".py",
   "mimetype": "text/x-python",
   "name": "python",
   "nbconvert_exporter": "python",
   "pygments_lexer": "ipython3",
   "version": "3.7.4"
  }
 },
 "nbformat": 4,
 "nbformat_minor": 2
}
