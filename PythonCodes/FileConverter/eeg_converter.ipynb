{
 "cells": [
  {
   "cell_type": "code",
   "execution_count": 1,
   "metadata": {},
   "outputs": [],
   "source": [
    "#!/usr/bin/env python3\n",
    "# -*- coding: utf-8 -*-\n",
    "#\n",
    "# Author: Gernot Heisenberg\n",
    "# 31-10-2019\n",
    "# Edit: Kirill Gelgurt\n",
    "# 04-11-2019\n",
    "#\n",
    "# Description: Reads EEGID App data, extracts a special column and saves it as new file with a special output filename"
   ]
  },
  {
   "cell_type": "code",
   "execution_count": 3,
   "metadata": {},
   "outputs": [
    {
     "output_type": "error",
     "ename": "ModuleNotFoundError",
     "evalue": "No module named 'pandas'",
     "traceback": [
      "\u001b[1;31m---------------------------------------------------------------------------\u001b[0m",
      "\u001b[1;31mModuleNotFoundError\u001b[0m                       Traceback (most recent call last)",
      "\u001b[1;32m<ipython-input-3-0b56e41ec593>\u001b[0m in \u001b[0;36m<module>\u001b[1;34m\u001b[0m\n\u001b[1;32m----> 1\u001b[1;33m \u001b[1;32mimport\u001b[0m \u001b[0mpandas\u001b[0m \u001b[1;32mas\u001b[0m \u001b[0mpd\u001b[0m\u001b[1;33m\u001b[0m\u001b[1;33m\u001b[0m\u001b[0m\n\u001b[0m\u001b[0;32m      2\u001b[0m \u001b[1;32mfrom\u001b[0m \u001b[0mdatetime\u001b[0m \u001b[1;32mimport\u001b[0m \u001b[0mdatetime\u001b[0m\u001b[1;33m\u001b[0m\u001b[1;33m\u001b[0m\u001b[0m\n\u001b[0;32m      3\u001b[0m \u001b[1;32mimport\u001b[0m \u001b[0mos\u001b[0m\u001b[1;33m,\u001b[0m \u001b[0mglob\u001b[0m\u001b[1;33m\u001b[0m\u001b[1;33m\u001b[0m\u001b[0m\n",
      "\u001b[1;31mModuleNotFoundError\u001b[0m: No module named 'pandas'"
     ]
    }
   ],
   "source": [
    "import pandas as pd\n",
    "from datetime import datetime\n",
    "import os, glob"
   ]
  },
  {
   "cell_type": "code",
   "execution_count": 3,
   "metadata": {},
   "outputs": [],
   "source": [
    "num = 0\n",
    "\n",
    "# change directory accordingly\n",
    "eeg_in_folder = \"G:\\Desktop\\Pyhton_Code_test\\eeg\\raw\" \n",
    "eeg_out_folder = \"G:\\Desktop\\Pyhton_Code_test\\Out\\eeg\" \n",
    "\n",
    "os.chdir(eeg_in_folder)\n",
    "\n",
    "files = sorted(glob.glob(\"*.csv\")) # Makes a list of all files in eeg_in_folder\n",
    "bloblist = []\n",
    "# Add correct list of electrodes here\n",
    "electrode_position_list=[\"T6\",\"T5\",\"T4\",\"T3\",\"PZ\",\"P4\",\"P3\",\"OZ\",\"O2\",\"O1\",\"FZ\",\"FPZ\",\"FP2\",\"FP1\",\"F8\",\"F7\",\"F4\",\"F3\",\"CZ\",\"C4\",\"C3\"]"
   ]
  },
  {
   "cell_type": "code",
   "execution_count": 4,
   "metadata": {},
   "outputs": [],
   "source": [
    "for file in files:\n",
    "    #with open (file, 'r') as f:\n",
    "    df=pd.read_csv(file, sep=\",\", usecols=['eegRawValue'],nrows=70144)\n",
    "    #df.rename(columns={'eegRawValue':'EEG_Values'}, inplace=True)\n",
    "    #df2=df[[\"EEG_Values\"]]\n",
    "\n",
    "    # get file string for name\n",
    "    num = file.split('vp')[1]\n",
    "    num = num.split('_')[0]\n",
    "    date = file.split('_')\n",
    "\n",
    "    vp_path_num = \"vp_\" + str(num)\n",
    "\n",
    "    for elecPos in electrode_position_list:\n",
    "        out_filename = eeg_out_folder + vp_path_num + \"_\" + elecPos + \"_\" + date[1] + '_' + date[2] + \"_EEG.csv\"\n",
    "        f = open(out_filename, 'w') # Open file as write mode\n",
    "        #df2.to_csv(out_filename, index = None, header=True)\n",
    "        df.to_csv(out_filename, index = None, header=[\"EEG_Values\"])\n",
    "        f.close()\n",
    "        "
   ]
  },
  {
   "cell_type": "code",
   "execution_count": null,
   "metadata": {},
   "outputs": [],
   "source": [
    "        "
   ]
  }
 ],
 "metadata": {
  "kernelspec": {
   "name": "python3",
   "display_name": "Python 3.8.5 64-bit ('AdAnalyser': conda)",
   "metadata": {
    "interpreter": {
     "hash": "1795050b6f64bb94488e4a03bab520a713e582acd27c05e6ed1657689adfb496"
    }
   }
  },
  "language_info": {
   "codemirror_mode": {
    "name": "ipython",
    "version": 3
   },
   "file_extension": ".py",
   "mimetype": "text/x-python",
   "name": "python",
   "nbconvert_exporter": "python",
   "pygments_lexer": "ipython3",
   "version": "3.8.5-final"
  },
  "nteract": {
   "version": "0.15.0"
  }
 },
 "nbformat": 4,
 "nbformat_minor": 2
}